{
 "cells": [
  {
   "cell_type": "markdown",
   "id": "ce26a0aa-44bf-4461-8b91-1f179f99de88",
   "metadata": {},
   "source": [
    "# Data Preprocessing Tools"
   ]
  },
  {
   "cell_type": "markdown",
   "id": "4af3f278-9344-4ef8-85de-b7974d2c855e",
   "metadata": {},
   "source": [
    "## 1. Importing the libraries"
   ]
  },
  {
   "cell_type": "code",
   "execution_count": 3,
   "id": "2f90240a-da20-49cd-8ecf-a1241af458c4",
   "metadata": {},
   "outputs": [],
   "source": [
    "import numpy as np\n",
    "import pandas as pd\n",
    "import matplotlib.pyplot as plt"
   ]
  },
  {
   "cell_type": "markdown",
   "id": "8fc4c9e0-a7a3-4e5c-b167-7b2bc35ff922",
   "metadata": {
    "tags": []
   },
   "source": [
    "## 2. Importing the dataset"
   ]
  },
  {
   "cell_type": "code",
   "execution_count": 4,
   "id": "5153c836-3cbd-400d-9869-ae45355a7dcf",
   "metadata": {},
   "outputs": [],
   "source": [
    "# Leitura do dataset através do pandas\n",
    "# Explicação do que é X e do que é Y\n",
    "# X é variável independente e Y é variável dependente\n",
    "# Porque foi colocado .values para transformar em arrays? Por que não usar dataframes\n",
    "# e Series?\n",
    "# Posso usar np.array(DataFrame) ao invés de usar o .values?\n",
    "\n",
    "dataset = pd.read_csv('Data.csv')\n",
    "X = dataset.iloc[:,:-1].values\n",
    "y = dataset.iloc[:,-1].values"
   ]
  },
  {
   "cell_type": "code",
   "execution_count": 5,
   "id": "3f7bec6f-b513-431c-8323-101be0f38705",
   "metadata": {},
   "outputs": [
    {
     "name": "stdout",
     "output_type": "stream",
     "text": [
      "[['France' 44.0 72000.0]\n",
      " ['Spain' 27.0 48000.0]\n",
      " ['Germany' 30.0 54000.0]\n",
      " ['Spain' 38.0 61000.0]\n",
      " ['Germany' 40.0 nan]\n",
      " ['France' 35.0 58000.0]\n",
      " ['Spain' nan 52000.0]\n",
      " ['France' 48.0 79000.0]\n",
      " ['Germany' 50.0 83000.0]\n",
      " ['France' 37.0 67000.0]]\n"
     ]
    }
   ],
   "source": [
    "print(X)"
   ]
  },
  {
   "cell_type": "code",
   "execution_count": 6,
   "id": "8d676c93-7af2-4293-922f-d0b2c6779f40",
   "metadata": {},
   "outputs": [
    {
     "name": "stdout",
     "output_type": "stream",
     "text": [
      "['No' 'Yes' 'No' 'No' 'Yes' 'Yes' 'No' 'Yes' 'No' 'Yes']\n"
     ]
    }
   ],
   "source": [
    "print(y)"
   ]
  },
  {
   "cell_type": "markdown",
   "id": "f1354e93-bdaf-4ae8-849b-420df4554af0",
   "metadata": {},
   "source": [
    "## 3. Taking care of missing data"
   ]
  },
  {
   "cell_type": "code",
   "execution_count": 7,
   "id": "1c555dc3-0791-4bfb-ade0-a7ce051717f4",
   "metadata": {},
   "outputs": [],
   "source": [
    "# Existem duas formas de lidar com valores faltantes:\n",
    "# Deletar as linhas com valores vazios. Muitos valores, não faz falta remover um ou outro\n",
    "# Substituir os valores por outro (média, valor perto)\n",
    "# O que significa imputer? A tradução mais próxima seria Imputador ou Preenchedor\n",
    "# O imputer.fit(X[:,1:3]) substitui os valores faltantes pelos valores da média \n",
    "\n",
    "from sklearn.impute import SimpleImputer\n",
    "imputer = SimpleImputer(missing_values = np.nan, strategy='mean')\n",
    "imputer.fit(X[:,1:3])\n",
    "X[:, 1:3] = imputer.transform(X[:,1:3])"
   ]
  },
  {
   "cell_type": "code",
   "execution_count": 8,
   "id": "3578de62-cfef-47ee-b1aa-62d27e4ef28d",
   "metadata": {},
   "outputs": [
    {
     "name": "stdout",
     "output_type": "stream",
     "text": [
      "[['France' 44.0 72000.0]\n",
      " ['Spain' 27.0 48000.0]\n",
      " ['Germany' 30.0 54000.0]\n",
      " ['Spain' 38.0 61000.0]\n",
      " ['Germany' 40.0 63777.77777777778]\n",
      " ['France' 35.0 58000.0]\n",
      " ['Spain' 38.77777777777778 52000.0]\n",
      " ['France' 48.0 79000.0]\n",
      " ['Germany' 50.0 83000.0]\n",
      " ['France' 37.0 67000.0]]\n"
     ]
    }
   ],
   "source": [
    "print(X)"
   ]
  },
  {
   "cell_type": "markdown",
   "id": "da5dacd5-ad14-40bb-a4d7-9fe3bb7b3c23",
   "metadata": {},
   "source": [
    "## 4. Encoding  Categorical Variable"
   ]
  },
  {
   "cell_type": "markdown",
   "id": "9fcb7644-f9cc-4f7f-bd98-918d70e2ea87",
   "metadata": {},
   "source": [
    "### 4.1 Encoding the Independent Variable"
   ]
  },
  {
   "cell_type": "code",
   "execution_count": 9,
   "id": "8d20ff2f-e903-43da-8435-a9a2c345ad69",
   "metadata": {},
   "outputs": [],
   "source": [
    "# Transformar a coluna Country, que é uma colunas com valores categóricos, em valores\n",
    "# numéricos. Uso do OneHotEnconder\n",
    "# O remainder='passthrough' garante que as outras colunas serão mantidas\n",
    "\n",
    "from sklearn.compose import ColumnTransformer\n",
    "from sklearn.preprocessing import OneHotEncoder\n",
    "\n",
    "ct = ColumnTransformer(transformers=[('encoder', OneHotEncoder(), [0])],remainder='passthrough')\n",
    "X = np.array(ct.fit_transform(X))"
   ]
  },
  {
   "cell_type": "code",
   "execution_count": 10,
   "id": "f840c151-8753-459c-a647-82e6644a847d",
   "metadata": {},
   "outputs": [
    {
     "name": "stdout",
     "output_type": "stream",
     "text": [
      "[[1.0 0.0 0.0 44.0 72000.0]\n",
      " [0.0 0.0 1.0 27.0 48000.0]\n",
      " [0.0 1.0 0.0 30.0 54000.0]\n",
      " [0.0 0.0 1.0 38.0 61000.0]\n",
      " [0.0 1.0 0.0 40.0 63777.77777777778]\n",
      " [1.0 0.0 0.0 35.0 58000.0]\n",
      " [0.0 0.0 1.0 38.77777777777778 52000.0]\n",
      " [1.0 0.0 0.0 48.0 79000.0]\n",
      " [0.0 1.0 0.0 50.0 83000.0]\n",
      " [1.0 0.0 0.0 37.0 67000.0]]\n"
     ]
    }
   ],
   "source": [
    "print(X)"
   ]
  },
  {
   "cell_type": "markdown",
   "id": "e6d27c27-7f37-486a-abf5-1f1074d86fdc",
   "metadata": {},
   "source": [
    "### 4.2 Encoding the Dependent Variable"
   ]
  },
  {
   "cell_type": "code",
   "execution_count": 11,
   "id": "b91b2827-892b-4a50-b193-18240857a4a6",
   "metadata": {},
   "outputs": [],
   "source": [
    "# Por que usar LebelEncoder e não OneHotEncoder?\n",
    "# Como o LabelEncoder escolher o que 0 e 1 significa? Nesse caso, 'No' é 0 e 1 é 'Yes'\n",
    "\n",
    "from sklearn.preprocessing import LabelEncoder\n",
    "le = LabelEncoder()\n",
    "y = le.fit_transform(y)"
   ]
  },
  {
   "cell_type": "code",
   "execution_count": 12,
   "id": "95b5a610-d1e3-4824-bb7c-f8e143b407e3",
   "metadata": {},
   "outputs": [
    {
     "name": "stdout",
     "output_type": "stream",
     "text": [
      "[0 1 0 0 1 1 0 1 0 1]\n"
     ]
    }
   ],
   "source": [
    "print(y)"
   ]
  },
  {
   "cell_type": "markdown",
   "id": "4dc9fc90-67f4-4b0a-a6ee-065aaaab98f3",
   "metadata": {},
   "source": [
    "## 5. Splitting the dataset into the Training set and Test set"
   ]
  },
  {
   "cell_type": "code",
   "execution_count": 13,
   "id": "523b5a05-29a7-44d6-9b85-84bd6f1f2625",
   "metadata": {},
   "outputs": [],
   "source": [
    "# Feature Scaling vem antes ou depois do Split the Dataset\n",
    "# Resposta: vem depois\n",
    "# Por quê? Porque Fazer o Feature Scaling antes de separar em teste e treinamento implica\n",
    "# em aplicar a média de TODO o dataset para uma parte do dataset que, em tese, deveria ser nova.\n",
    "# Ao aplicar antes, de certa forma você está contaminando o dataset teste com o dataset treinamento\n",
    "# X_train, y_train, X_test, y_test\n",
    "\n",
    "from sklearn.model_selection import train_test_split\n",
    "\n",
    "X_train, X_test, y_train, y_test = train_test_split(X, y, test_size= 0.2, random_state= 1)"
   ]
  },
  {
   "cell_type": "code",
   "execution_count": 14,
   "id": "377ba0c1-5e69-4003-9aed-4b30cb944ff6",
   "metadata": {},
   "outputs": [
    {
     "name": "stdout",
     "output_type": "stream",
     "text": [
      "[[0.0 0.0 1.0 38.77777777777778 52000.0]\n",
      " [0.0 1.0 0.0 40.0 63777.77777777778]\n",
      " [1.0 0.0 0.0 44.0 72000.0]\n",
      " [0.0 0.0 1.0 38.0 61000.0]\n",
      " [0.0 0.0 1.0 27.0 48000.0]\n",
      " [1.0 0.0 0.0 48.0 79000.0]\n",
      " [0.0 1.0 0.0 50.0 83000.0]\n",
      " [1.0 0.0 0.0 35.0 58000.0]]\n"
     ]
    }
   ],
   "source": [
    "print(X_train)"
   ]
  },
  {
   "cell_type": "code",
   "execution_count": 15,
   "id": "0969aaf3-a42e-4f7c-b631-c16cd42fb0ca",
   "metadata": {},
   "outputs": [
    {
     "name": "stdout",
     "output_type": "stream",
     "text": [
      "[[0.0 1.0 0.0 30.0 54000.0]\n",
      " [1.0 0.0 0.0 37.0 67000.0]]\n"
     ]
    }
   ],
   "source": [
    "print(X_test)"
   ]
  },
  {
   "cell_type": "code",
   "execution_count": 16,
   "id": "0d0e5072-ad65-4d1e-9656-2c463f9af831",
   "metadata": {},
   "outputs": [
    {
     "name": "stdout",
     "output_type": "stream",
     "text": [
      "[0 1 0 0 1 1 0 1]\n"
     ]
    }
   ],
   "source": [
    "print(y_train)"
   ]
  },
  {
   "cell_type": "code",
   "execution_count": 17,
   "id": "8a9261f6-34c2-4e5f-b032-ae674f4ba172",
   "metadata": {},
   "outputs": [
    {
     "name": "stdout",
     "output_type": "stream",
     "text": [
      "[0 1]\n"
     ]
    }
   ],
   "source": [
    "print(y_test)"
   ]
  },
  {
   "cell_type": "markdown",
   "id": "7114bdfa-24a9-40ed-80dc-14b3ae8e2758",
   "metadata": {},
   "source": [
    "## 6. Feature Scaling"
   ]
  },
  {
   "cell_type": "code",
   "execution_count": 21,
   "id": "3fe9a2a6-3b9d-4003-81cf-dc570637ad35",
   "metadata": {},
   "outputs": [],
   "source": [
    "# Por que Feature Scaling?\n",
    "# Para evitar que algumas features (leia-se:colunas) não sejam dominadas por outras\n",
    "# Feature Scaling: Standardization (fórmula) e Normalisation (fórmula)\n",
    "# Standardization funciona sempre\n",
    "# É melhor aplicar quando as features tem uma distribuição normal\n",
    "# Devemos fazer feature scaler na dummy variables (variáveis binárias)\n",
    "# Por que Standardisation deixa os números entre -3 e +3?\n",
    "\n",
    "from sklearn.preprocessing import StandardScaler\n",
    "sc = StandardScaler()\n",
    "X_train[:, 3:] = sc.fit_transform(X_train[:,3:])\n",
    "X_test[:, 3:] = sc.transform(X_test[:,3:])"
   ]
  },
  {
   "cell_type": "code",
   "execution_count": 22,
   "id": "1bfba452-c810-4918-827f-8776259bc7b9",
   "metadata": {},
   "outputs": [
    {
     "name": "stdout",
     "output_type": "stream",
     "text": [
      "[[0.0 0.0 1.0 -0.1915918438457856 -1.0781259408412427]\n",
      " [0.0 1.0 0.0 -0.014117293757057902 -0.07013167641635401]\n",
      " [1.0 0.0 0.0 0.5667085065333239 0.6335624327104546]\n",
      " [0.0 0.0 1.0 -0.3045301939022488 -0.30786617274297895]\n",
      " [0.0 0.0 1.0 -1.901801144700799 -1.4204636155515822]\n",
      " [1.0 0.0 0.0 1.1475343068237056 1.2326533634535488]\n",
      " [0.0 1.0 0.0 1.4379472069688966 1.5749910381638883]\n",
      " [1.0 0.0 0.0 -0.7401495441200352 -0.5646194287757336]]\n"
     ]
    }
   ],
   "source": [
    "print(X_train)"
   ]
  },
  {
   "cell_type": "code",
   "execution_count": 23,
   "id": "77dfec78-55dd-4e17-8434-938196ce1d1d",
   "metadata": {},
   "outputs": [
    {
     "name": "stdout",
     "output_type": "stream",
     "text": [
      "[[0.0 1.0 0.0 -1.0000000000000002 -1.0000000000000002]\n",
      " [1.0 0.0 0.0 0.9999999999999999 0.9999999999999997]]\n"
     ]
    }
   ],
   "source": [
    "print(X_test)"
   ]
  },
  {
   "cell_type": "code",
   "execution_count": null,
   "id": "7f45bbaf-54e3-4da9-89da-1f343b58a229",
   "metadata": {},
   "outputs": [],
   "source": []
  },
  {
   "cell_type": "code",
   "execution_count": null,
   "id": "71324b78-7416-46a6-a5c0-b9f1a516e302",
   "metadata": {},
   "outputs": [],
   "source": []
  }
 ],
 "metadata": {
  "kernelspec": {
   "display_name": "Python 3 (ipykernel)",
   "language": "python",
   "name": "python3"
  },
  "language_info": {
   "codemirror_mode": {
    "name": "ipython",
    "version": 3
   },
   "file_extension": ".py",
   "mimetype": "text/x-python",
   "name": "python",
   "nbconvert_exporter": "python",
   "pygments_lexer": "ipython3",
   "version": "3.9.12"
  }
 },
 "nbformat": 4,
 "nbformat_minor": 5
}
