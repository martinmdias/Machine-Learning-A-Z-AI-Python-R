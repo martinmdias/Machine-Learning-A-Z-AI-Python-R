{
 "cells": [
  {
   "cell_type": "markdown",
   "id": "ce26a0aa-44bf-4461-8b91-1f179f99de88",
   "metadata": {},
   "source": [
    "# Data Preprocessing Tools"
   ]
  },
  {
   "cell_type": "markdown",
   "id": "4af3f278-9344-4ef8-85de-b7974d2c855e",
   "metadata": {},
   "source": [
    "## 1. Importing the libraries"
   ]
  },
  {
   "cell_type": "code",
   "execution_count": 1,
   "id": "2f90240a-da20-49cd-8ecf-a1241af458c4",
   "metadata": {},
   "outputs": [],
   "source": [
    "import numpy as np\n",
    "import pandas as pd\n",
    "import matplotlib.pyplot as plt"
   ]
  },
  {
   "cell_type": "markdown",
   "id": "8fc4c9e0-a7a3-4e5c-b167-7b2bc35ff922",
   "metadata": {
    "tags": []
   },
   "source": [
    "## 2. Importing the dataset"
   ]
  },
  {
   "cell_type": "code",
   "execution_count": 20,
   "id": "5153c836-3cbd-400d-9869-ae45355a7dcf",
   "metadata": {},
   "outputs": [],
   "source": [
    "# Leitura do dataset através do pandas\n",
    "# Explicação do que é X e do que é Y\n",
    "# X é variável independente e Y é variável dependente\n",
    "# Porque foi colocado .values para transformar em arrays? Por que não usar dataframes\n",
    "# e Series?\n",
    "# Posso usar np.array(DataFrame) ao invés de usar o .values?\n",
    "\n",
    "dataset = pd.read_csv('Data.csv')\n",
    "X = dataset.iloc[:,:-1].values\n",
    "y = dataset.iloc[:,-1].values"
   ]
  },
  {
   "cell_type": "code",
   "execution_count": 26,
   "id": "3f7bec6f-b513-431c-8323-101be0f38705",
   "metadata": {},
   "outputs": [
    {
     "name": "stdout",
     "output_type": "stream",
     "text": [
      "[['France' 44.0 72000.0]\n",
      " ['Spain' 27.0 48000.0]\n",
      " ['Germany' 30.0 54000.0]\n",
      " ['Spain' 38.0 61000.0]\n",
      " ['Germany' 40.0 nan]\n",
      " ['France' 35.0 58000.0]\n",
      " ['Spain' nan 52000.0]\n",
      " ['France' 48.0 79000.0]\n",
      " ['Germany' 50.0 83000.0]\n",
      " ['France' 37.0 67000.0]]\n"
     ]
    }
   ],
   "source": [
    "print(X)"
   ]
  },
  {
   "cell_type": "code",
   "execution_count": 27,
   "id": "8d676c93-7af2-4293-922f-d0b2c6779f40",
   "metadata": {},
   "outputs": [
    {
     "name": "stdout",
     "output_type": "stream",
     "text": [
      "['No' 'Yes' 'No' 'No' 'Yes' 'Yes' 'No' 'Yes' 'No' 'Yes']\n"
     ]
    }
   ],
   "source": [
    "print(y)"
   ]
  },
  {
   "cell_type": "markdown",
   "id": "f1354e93-bdaf-4ae8-849b-420df4554af0",
   "metadata": {},
   "source": [
    "## 3. Taking care of missing data"
   ]
  },
  {
   "cell_type": "code",
   "execution_count": 28,
   "id": "1c555dc3-0791-4bfb-ade0-a7ce051717f4",
   "metadata": {},
   "outputs": [],
   "source": [
    "# Existem duas formas de lidar com valores faltantes:\n",
    "# Deletar as linhas com valores vazios. Muitos valores, não faz falta remover um ou outro\n",
    "# Substituir os valores por outro (média, valor perto)\n",
    "# O que significa imputer? A tradução mais próxima seria Imputador ou Preenchedor\n",
    "# O imputer.fit(X[:,1:3]) substitui os valores faltantes pelos valores da média \n",
    "\n",
    "from sklearn.impute import SimpleImputer\n",
    "imputer = SimpleImputer(missing_values = np.nan, strategy='mean')\n",
    "imputer.fit(X[:,1:3])\n",
    "X[:, 1:3] = imputer.transform(X[:,1:3])"
   ]
  },
  {
   "cell_type": "code",
   "execution_count": 29,
   "id": "3578de62-cfef-47ee-b1aa-62d27e4ef28d",
   "metadata": {},
   "outputs": [
    {
     "name": "stdout",
     "output_type": "stream",
     "text": [
      "[['France' 44.0 72000.0]\n",
      " ['Spain' 27.0 48000.0]\n",
      " ['Germany' 30.0 54000.0]\n",
      " ['Spain' 38.0 61000.0]\n",
      " ['Germany' 40.0 63777.77777777778]\n",
      " ['France' 35.0 58000.0]\n",
      " ['Spain' 38.77777777777778 52000.0]\n",
      " ['France' 48.0 79000.0]\n",
      " ['Germany' 50.0 83000.0]\n",
      " ['France' 37.0 67000.0]]\n"
     ]
    }
   ],
   "source": [
    "print(X)"
   ]
  },
  {
   "cell_type": "markdown",
   "id": "da5dacd5-ad14-40bb-a4d7-9fe3bb7b3c23",
   "metadata": {},
   "source": [
    "## 4. Encoding  Categorical Variable"
   ]
  },
  {
   "cell_type": "markdown",
   "id": "9fcb7644-f9cc-4f7f-bd98-918d70e2ea87",
   "metadata": {},
   "source": [
    "### 4.1 Encoding the Independent Variable"
   ]
  },
  {
   "cell_type": "code",
   "execution_count": 30,
   "id": "8d20ff2f-e903-43da-8435-a9a2c345ad69",
   "metadata": {},
   "outputs": [],
   "source": [
    "# Transformar a coluna Country, que é uma colunas com valores categóricos, em valores\n",
    "# numéricos. Uso do OneHotEnconder\n",
    "# O remainder='passthrough' garante que as outras colunas serão mantidas\n",
    "\n",
    "from sklearn.compose import ColumnTransformer\n",
    "from sklearn.preprocessing import OneHotEncoder\n",
    "\n",
    "ct = ColumnTransformer(transformers=[('encoder', OneHotEncoder(), [0])],remainder='passthrough')\n",
    "X = np.array(ct.fit_transform(X))"
   ]
  },
  {
   "cell_type": "code",
   "execution_count": 31,
   "id": "f840c151-8753-459c-a647-82e6644a847d",
   "metadata": {},
   "outputs": [
    {
     "name": "stdout",
     "output_type": "stream",
     "text": [
      "[[1.0 0.0 0.0 44.0 72000.0]\n",
      " [0.0 0.0 1.0 27.0 48000.0]\n",
      " [0.0 1.0 0.0 30.0 54000.0]\n",
      " [0.0 0.0 1.0 38.0 61000.0]\n",
      " [0.0 1.0 0.0 40.0 63777.77777777778]\n",
      " [1.0 0.0 0.0 35.0 58000.0]\n",
      " [0.0 0.0 1.0 38.77777777777778 52000.0]\n",
      " [1.0 0.0 0.0 48.0 79000.0]\n",
      " [0.0 1.0 0.0 50.0 83000.0]\n",
      " [1.0 0.0 0.0 37.0 67000.0]]\n"
     ]
    }
   ],
   "source": [
    "print(X)"
   ]
  },
  {
   "cell_type": "markdown",
   "id": "e6d27c27-7f37-486a-abf5-1f1074d86fdc",
   "metadata": {},
   "source": [
    "### 4.2 Encoding the Dependent Variable"
   ]
  },
  {
   "cell_type": "code",
   "execution_count": 33,
   "id": "b91b2827-892b-4a50-b193-18240857a4a6",
   "metadata": {},
   "outputs": [],
   "source": [
    "# Por que usar LebelEncoder e não OneHotEncoder?\n",
    "# Como o LabelEncoder escolher o que 0 e 1 significa? Nesse caso,No é 0 e 1 é Yes\n",
    "\n",
    "from sklearn.preprocessing import LabelEncoder\n",
    "le = LabelEncoder()\n",
    "y = le.fit_transform(y)"
   ]
  },
  {
   "cell_type": "code",
   "execution_count": 34,
   "id": "95b5a610-d1e3-4824-bb7c-f8e143b407e3",
   "metadata": {},
   "outputs": [
    {
     "name": "stdout",
     "output_type": "stream",
     "text": [
      "[0 1 0 0 1 1 0 1 0 1]\n"
     ]
    }
   ],
   "source": [
    "print(y)"
   ]
  },
  {
   "cell_type": "code",
   "execution_count": null,
   "id": "b85e4099-349a-493e-867a-3767d310e7e2",
   "metadata": {},
   "outputs": [],
   "source": []
  }
 ],
 "metadata": {
  "kernelspec": {
   "display_name": "Python 3 (ipykernel)",
   "language": "python",
   "name": "python3"
  },
  "language_info": {
   "codemirror_mode": {
    "name": "ipython",
    "version": 3
   },
   "file_extension": ".py",
   "mimetype": "text/x-python",
   "name": "python",
   "nbconvert_exporter": "python",
   "pygments_lexer": "ipython3",
   "version": "3.9.12"
  }
 },
 "nbformat": 4,
 "nbformat_minor": 5
}
